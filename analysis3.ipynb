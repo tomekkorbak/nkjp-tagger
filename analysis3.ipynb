{
 "cells": [
  {
   "cell_type": "code",
   "execution_count": 1,
   "metadata": {
    "collapsed": false
   },
   "outputs": [],
   "source": [
    "import tensorflow as tf\n",
    "from tagger import Config, Tagger, calculate_confusion, print_confusion"
   ]
  },
  {
   "cell_type": "code",
   "execution_count": 49,
   "metadata": {
    "collapsed": false
   },
   "outputs": [],
   "source": [
    ""
   ]
  },
  {
   "cell_type": "code",
   "execution_count": 5,
   "metadata": {
    "collapsed": false
   },
   "outputs": [
    {
     "name": "stdout",
     "output_type": "stream",
     "text": [
      "Model hyperparameters:\nwindow_size: 3\nembed_size: 50\ndropout: 0.9\nbatch_size: 64\nl2: 0.003\nmax_epochs: 30\nlr: 0.001\nhidden_size: 200\nearly_stopping: 2\n\n"
     ]
    },
    {
     "name": "stdout",
     "output_type": "stream",
     "text": [
      "85565 sentences loaded\n"
     ]
    },
    {
     "name": "stdout",
     "output_type": "stream",
     "text": [
      "1386544 3-word windows loaded\nShape of X is (1386544, 3)\nShape of y is (1386544,)\n"
     ]
    },
    {
     "name": "stdout",
     "output_type": "stream",
     "text": [
      "Test accuracy is 0.929104100855\n"
     ]
    }
   ],
   "source": [
    "config = Config()\n",
    "print config\n",
    "with tf.Graph().as_default():\n",
    "    with tf.Session() as session:\n",
    "        model = Tagger(config)\n",
    "        init = tf.global_variables_initializer()\n",
    "        session.run(init)\n",
    "        saver = tf.train.Saver()\n",
    "        saver.restore(session, './weights/tagger.weights')\n",
    "        _, predictions = model.predict(session, \n",
    "                                       model.X_dev, \n",
    "                                       model.y_dev,\n",
    "                                       verbose=False\n",
    "                                       )\n",
    "        total_correct_examples = 0\n",
    "        total_processed_examples = len(predictions)\n",
    "        failed_cases = []\n",
    "        for i, (y_hat, y) in enumerate(\n",
    "                zip(predictions, model.y_dev)):\n",
    "            total_correct_examples += 1 if y == y_hat else 0\n",
    "            if y != y_hat:\n",
    "                failed_cases.append((i, y_hat, y))\n",
    "        print 'Test accuracy is', total_correct_examples / float(\n",
    "            total_processed_examples)"
   ]
  },
  {
   "cell_type": "code",
   "execution_count": 6,
   "metadata": {},
   "outputs": [],
   "source": [
    ""
   ]
  },
  {
   "cell_type": "code",
   "execution_count": null,
   "metadata": {},
   "outputs": [],
   "source": [
    ""
   ]
  }
 ],
 "metadata": {
  "kernelspec": {
   "display_name": "Python 2",
   "language": "python",
   "name": "python2"
  },
  "language_info": {
   "codemirror_mode": {
    "name": "ipython",
    "version": 2.0
   },
   "file_extension": ".py",
   "mimetype": "text/x-python",
   "name": "python",
   "nbconvert_exporter": "python",
   "pygments_lexer": "ipython2",
   "version": "2.7.6"
  }
 },
 "nbformat": 4,
 "nbformat_minor": 0
}